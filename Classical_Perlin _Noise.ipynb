{
 "cells": [
  {
   "cell_type": "markdown",
   "metadata": {},
   "source": [
    "# Classical Perlin Noise"
   ]
  },
  {
   "cell_type": "markdown",
   "metadata": {},
   "source": [
    "In the classical approach, Perlin noise is generated using deterministic algorithms. Specifically, the simplex function utilizes the OpenSimplex library to create a grid of noise values based on specified parameters. Each point (x,y) in this grid receives a noise value that ranges between 0 and 1. This noise function is known for producing smooth, coherent noise patterns that are used extensively in graphics and procedural generation.\n",
    "\n",
    "The generated heightmap, Z, is then converted into an image using the height2image function. This function maps the noise values to colors based on predefined terrain thresholds such as sea, beach, grass, forest, mountain, and snow. The resulting image provides a visual representation of the heightmap, making it suitable for further analysis or rendering."
   ]
  },
  {
   "cell_type": "code",
   "execution_count": null,
   "metadata": {},
   "outputs": [],
   "source": [
    "from PIL import Image\n",
    "from IPython.display import display\n",
    "\n",
    "def height2image(Z, terrain=None):\n",
    "    # Converts a heightmap Z into a PIL image\n",
    "    # If terrain is None, the image will be black and white\n",
    "    # Otherwise, terrain thresholds are used to differentiate between various terrain types\n",
    "    \n",
    "    image = {}  # Dictionary to store pixel color for each position\n",
    "    \n",
    "    for pos in Z:  # Iterate over each position in the heightmap\n",
    "        if terrain:  # If terrain thresholds are provided\n",
    "            if Z[pos] < terrain[0]:\n",
    "                image[pos] = (50,120,200)  # Sea (blue)\n",
    "            elif Z[pos] < terrain[1]:\n",
    "                image[pos] = (220,220,10)  # Beach (yellow)\n",
    "            elif Z[pos] < terrain[2]:\n",
    "                image[pos] = (100,200,0)   # Grass (green)\n",
    "            elif Z[pos] < terrain[3]:\n",
    "                image[pos] = (75,150,0)    # Forest (darker green)\n",
    "            elif Z[pos] < terrain[4]:\n",
    "                image[pos] = (200,200,200)  # Mountain (gray)\n",
    "            else:\n",
    "                image[pos] = (255,255,255)  # Snow (white)\n",
    "        else:  # If no terrain thresholds, generate a grayscale image\n",
    "            z = int(255 * Z[pos])\n",
    "            image[pos] = (z, z, z)  # Grayscale based on height\n",
    "    \n",
    "    # Determine the dimensions of the image from the heightmap\n",
    "    X = max(Z.keys())[0] + 1\n",
    "    Y = max(Z.keys())[1] + 1\n",
    "    img = Image.new('RGB', (X, Y))  # Create a new RGB image with these dimensions\n",
    "    \n",
    "    for x in range(img.size[0]):  # Set each pixel in the image\n",
    "        for y in range(img.size[1]):\n",
    "            img.load()[x, y] = image[x, y]\n",
    "    \n",
    "    return img\n",
    "\n",
    "def plot_height(Z, terrain=[5/16, 6/16, 9/16, 12/16, 14/16], zoom=None):\n",
    "    # Display a heightmap as an image with terrain colors by default\n",
    "    img = height2image(Z, terrain=terrain)  # Generate the image\n",
    "    \n",
    "    if zoom:  # If zoom is specified, resize the image accordingly\n",
    "        img = img.resize((zoom * img.size[0], zoom * img.size[0]), Image.LANCZOS)\n",
    "    \n",
    "    img.save('temp.png')  # Save the image temporarily\n",
    "    display(Image.open('temp.png'))  # Display the image in the notebook\n"
   ]
  },
  {
   "cell_type": "code",
   "execution_count": null,
   "metadata": {},
   "outputs": [],
   "source": [
    "from opensimplex import OpenSimplex\n",
    "import random\n",
    "\n",
    "def simplex(L, period):\n",
    "    \"\"\"\n",
    "    Generate a heightmap using Simplex noise for a grid of size L[0]xL[1].\n",
    "    \n",
    "    Parameters:\n",
    "    - L: Tuple (L[0], L[1]) specifying the dimensions of the heightmap.\n",
    "    - period: Tuple (period[0], period[1]) defining the period of the noise in x and y directions.\n",
    "    \n",
    "    Returns:\n",
    "    - Z: Dictionary with (x, y) tuples as keys and noise values as the associated values.\n",
    "    \"\"\"\n",
    "    \n",
    "    # Initialize the Simplex noise generator with a random seed\n",
    "    gen = OpenSimplex(seed=random.randint(0, 10**20))\n",
    "    \n",
    "    # Initialize an empty dictionary to store the heightmap values\n",
    "    Z = {}\n",
    "    \n",
    "    # Loop through each coordinate in the grid\n",
    "    for x in range(L[0]):\n",
    "        for y in range(L[1]):\n",
    "            # Normalize x and y coordinates to range [-0.5, 0.5]\n",
    "            xx = period[0] * (x / L[0] - 0.5)\n",
    "            yy = period[1] * (y / L[1] - 0.5)\n",
    "            \n",
    "            # Generate Simplex noise value and normalize to range [0, 1]\n",
    "            Z[x, y] = gen.noise2(xx, yy) / 2 + 0.5\n",
    "    \n",
    "    return Z\n"
   ]
  },
  {
   "cell_type": "code",
   "execution_count": null,
   "metadata": {},
   "outputs": [],
   "source": [
    "# Generate a heightmap with Simplex noise for a grid of size 500x500\n",
    "Zlow = simplex([500, 500], [10, 10])\n",
    "\n",
    "# Plot the heightmap\n",
    "plot_height(Zlow)\n"
   ]
  },
  {
   "cell_type": "code",
   "execution_count": null,
   "metadata": {},
   "outputs": [],
   "source": [
    "# Generate two heightmaps with Simplex noise\n",
    "Zlow = simplex([500, 500], [10, 10])\n",
    "Zhigh = simplex([500, 500], [100, 100])\n",
    "\n",
    "# Combine the two heightmaps to create a new heightmap (Z)\n",
    "# Zlow contributes 80% and Zhigh contributes 20% to the final heightmap\n",
    "Z = {pos: 0.8 * Zlow.get(pos, 0) + 0.2 * Zhigh.get(pos, 0) for pos in Zhigh}\n",
    "\n",
    "# Plot the combined heightmap (Z) using the plot_height function\n",
    "plot_height(Z)\n"
   ]
  }
 ],
 "metadata": {
  "language_info": {
   "name": "python"
  }
 },
 "nbformat": 4,
 "nbformat_minor": 2
}
